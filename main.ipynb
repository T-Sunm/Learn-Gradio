{
 "cells": [
  {
   "cell_type": "code",
   "execution_count": 2,
   "metadata": {},
   "outputs": [
    {
     "name": "stdout",
     "output_type": "stream",
     "text": [
      "Requirement already satisfied: gradio in d:\\asus\\ungdung\\anacoda\\anacoda\\envs\\40dayspython_env\\lib\\site-packages (4.44.1)\n",
      "Requirement already satisfied: aiofiles<24.0,>=22.0 in d:\\asus\\ungdung\\anacoda\\anacoda\\envs\\40dayspython_env\\lib\\site-packages (from gradio) (23.2.1)\n",
      "Requirement already satisfied: anyio<5.0,>=3.0 in d:\\asus\\ungdung\\anacoda\\anacoda\\envs\\40dayspython_env\\lib\\site-packages (from gradio) (4.6.0)\n",
      "Requirement already satisfied: fastapi<1.0 in d:\\asus\\ungdung\\anacoda\\anacoda\\envs\\40dayspython_env\\lib\\site-packages (from gradio) (0.115.0)\n",
      "Requirement already satisfied: ffmpy in d:\\asus\\ungdung\\anacoda\\anacoda\\envs\\40dayspython_env\\lib\\site-packages (from gradio) (0.4.0)\n",
      "Requirement already satisfied: gradio-client==1.3.0 in d:\\asus\\ungdung\\anacoda\\anacoda\\envs\\40dayspython_env\\lib\\site-packages (from gradio) (1.3.0)\n",
      "Requirement already satisfied: httpx>=0.24.1 in d:\\asus\\ungdung\\anacoda\\anacoda\\envs\\40dayspython_env\\lib\\site-packages (from gradio) (0.27.2)\n",
      "Requirement already satisfied: huggingface-hub>=0.19.3 in d:\\asus\\ungdung\\anacoda\\anacoda\\envs\\40dayspython_env\\lib\\site-packages (from gradio) (0.24.6)\n",
      "Requirement already satisfied: importlib-resources<7.0,>=1.3 in d:\\asus\\ungdung\\anacoda\\anacoda\\envs\\40dayspython_env\\lib\\site-packages (from gradio) (6.4.5)\n",
      "Requirement already satisfied: jinja2<4.0 in d:\\asus\\ungdung\\anacoda\\anacoda\\envs\\40dayspython_env\\lib\\site-packages (from gradio) (3.1.3)\n",
      "Requirement already satisfied: markupsafe~=2.0 in d:\\asus\\ungdung\\anacoda\\anacoda\\envs\\40dayspython_env\\lib\\site-packages (from gradio) (2.1.5)\n",
      "Requirement already satisfied: matplotlib~=3.0 in d:\\asus\\ungdung\\anacoda\\anacoda\\envs\\40dayspython_env\\lib\\site-packages (from gradio) (3.8.3)\n",
      "Requirement already satisfied: numpy<3.0,>=1.0 in d:\\asus\\ungdung\\anacoda\\anacoda\\envs\\40dayspython_env\\lib\\site-packages (from gradio) (1.26.4)\n",
      "Requirement already satisfied: orjson~=3.0 in d:\\asus\\ungdung\\anacoda\\anacoda\\envs\\40dayspython_env\\lib\\site-packages (from gradio) (3.10.7)\n",
      "Requirement already satisfied: packaging in d:\\asus\\ungdung\\anacoda\\anacoda\\envs\\40dayspython_env\\lib\\site-packages (from gradio) (24.0)\n",
      "Requirement already satisfied: pandas<3.0,>=1.0 in d:\\asus\\ungdung\\anacoda\\anacoda\\envs\\40dayspython_env\\lib\\site-packages (from gradio) (2.2.2)\n",
      "Requirement already satisfied: pillow<11.0,>=8.0 in d:\\asus\\ungdung\\anacoda\\anacoda\\envs\\40dayspython_env\\lib\\site-packages (from gradio) (10.3.0)\n",
      "Requirement already satisfied: pydantic>=2.0 in d:\\asus\\ungdung\\anacoda\\anacoda\\envs\\40dayspython_env\\lib\\site-packages (from gradio) (2.7.0)\n",
      "Requirement already satisfied: pydub in d:\\asus\\ungdung\\anacoda\\anacoda\\envs\\40dayspython_env\\lib\\site-packages (from gradio) (0.25.1)\n",
      "Requirement already satisfied: python-multipart>=0.0.9 in d:\\asus\\ungdung\\anacoda\\anacoda\\envs\\40dayspython_env\\lib\\site-packages (from gradio) (0.0.12)\n",
      "Requirement already satisfied: pyyaml<7.0,>=5.0 in d:\\asus\\ungdung\\anacoda\\anacoda\\envs\\40dayspython_env\\lib\\site-packages (from gradio) (6.0.1)\n",
      "Requirement already satisfied: ruff>=0.2.2 in d:\\asus\\ungdung\\anacoda\\anacoda\\envs\\40dayspython_env\\lib\\site-packages (from gradio) (0.6.9)\n",
      "Requirement already satisfied: semantic-version~=2.0 in d:\\asus\\ungdung\\anacoda\\anacoda\\envs\\40dayspython_env\\lib\\site-packages (from gradio) (2.10.0)\n",
      "Requirement already satisfied: tomlkit==0.12.0 in d:\\asus\\ungdung\\anacoda\\anacoda\\envs\\40dayspython_env\\lib\\site-packages (from gradio) (0.12.0)\n",
      "Requirement already satisfied: typer<1.0,>=0.12 in d:\\asus\\ungdung\\anacoda\\anacoda\\envs\\40dayspython_env\\lib\\site-packages (from gradio) (0.12.5)\n",
      "Requirement already satisfied: typing-extensions~=4.0 in d:\\asus\\ungdung\\anacoda\\anacoda\\envs\\40dayspython_env\\lib\\site-packages (from gradio) (4.11.0)\n",
      "Requirement already satisfied: urllib3~=2.0 in d:\\asus\\ungdung\\anacoda\\anacoda\\envs\\40dayspython_env\\lib\\site-packages (from gradio) (2.2.1)\n",
      "Requirement already satisfied: uvicorn>=0.14.0 in d:\\asus\\ungdung\\anacoda\\anacoda\\envs\\40dayspython_env\\lib\\site-packages (from gradio) (0.31.0)\n",
      "Requirement already satisfied: fsspec in d:\\asus\\ungdung\\anacoda\\anacoda\\envs\\40dayspython_env\\lib\\site-packages (from gradio-client==1.3.0->gradio) (2024.3.1)\n",
      "Requirement already satisfied: websockets<13.0,>=10.0 in d:\\asus\\ungdung\\anacoda\\anacoda\\envs\\40dayspython_env\\lib\\site-packages (from gradio-client==1.3.0->gradio) (12.0)\n",
      "Requirement already satisfied: idna>=2.8 in d:\\asus\\ungdung\\anacoda\\anacoda\\envs\\40dayspython_env\\lib\\site-packages (from anyio<5.0,>=3.0->gradio) (3.7)\n",
      "Requirement already satisfied: sniffio>=1.1 in d:\\asus\\ungdung\\anacoda\\anacoda\\envs\\40dayspython_env\\lib\\site-packages (from anyio<5.0,>=3.0->gradio) (1.3.1)\n",
      "Requirement already satisfied: exceptiongroup>=1.0.2 in d:\\asus\\ungdung\\anacoda\\anacoda\\envs\\40dayspython_env\\lib\\site-packages (from anyio<5.0,>=3.0->gradio) (1.2.0)\n",
      "Requirement already satisfied: starlette<0.39.0,>=0.37.2 in d:\\asus\\ungdung\\anacoda\\anacoda\\envs\\40dayspython_env\\lib\\site-packages (from fastapi<1.0->gradio) (0.38.6)\n",
      "Requirement already satisfied: certifi in d:\\asus\\ungdung\\anacoda\\anacoda\\envs\\40dayspython_env\\lib\\site-packages (from httpx>=0.24.1->gradio) (2024.2.2)\n",
      "Requirement already satisfied: httpcore==1.* in d:\\asus\\ungdung\\anacoda\\anacoda\\envs\\40dayspython_env\\lib\\site-packages (from httpx>=0.24.1->gradio) (1.0.6)\n",
      "Requirement already satisfied: h11<0.15,>=0.13 in d:\\asus\\ungdung\\anacoda\\anacoda\\envs\\40dayspython_env\\lib\\site-packages (from httpcore==1.*->httpx>=0.24.1->gradio) (0.14.0)\n",
      "Requirement already satisfied: filelock in d:\\asus\\ungdung\\anacoda\\anacoda\\envs\\40dayspython_env\\lib\\site-packages (from huggingface-hub>=0.19.3->gradio) (3.13.1)\n",
      "Requirement already satisfied: requests in d:\\asus\\ungdung\\anacoda\\anacoda\\envs\\40dayspython_env\\lib\\site-packages (from huggingface-hub>=0.19.3->gradio) (2.32.3)\n",
      "Requirement already satisfied: tqdm>=4.42.1 in d:\\asus\\ungdung\\anacoda\\anacoda\\envs\\40dayspython_env\\lib\\site-packages (from huggingface-hub>=0.19.3->gradio) (4.66.5)\n",
      "Requirement already satisfied: contourpy>=1.0.1 in d:\\asus\\ungdung\\anacoda\\anacoda\\envs\\40dayspython_env\\lib\\site-packages (from matplotlib~=3.0->gradio) (1.2.0)\n",
      "Requirement already satisfied: cycler>=0.10 in d:\\asus\\ungdung\\anacoda\\anacoda\\envs\\40dayspython_env\\lib\\site-packages (from matplotlib~=3.0->gradio) (0.12.1)\n",
      "Requirement already satisfied: fonttools>=4.22.0 in d:\\asus\\ungdung\\anacoda\\anacoda\\envs\\40dayspython_env\\lib\\site-packages (from matplotlib~=3.0->gradio) (4.50.0)\n",
      "Requirement already satisfied: kiwisolver>=1.3.1 in d:\\asus\\ungdung\\anacoda\\anacoda\\envs\\40dayspython_env\\lib\\site-packages (from matplotlib~=3.0->gradio) (1.4.5)\n",
      "Requirement already satisfied: pyparsing>=2.3.1 in d:\\asus\\ungdung\\anacoda\\anacoda\\envs\\40dayspython_env\\lib\\site-packages (from matplotlib~=3.0->gradio) (3.1.2)\n",
      "Requirement already satisfied: python-dateutil>=2.7 in d:\\asus\\ungdung\\anacoda\\anacoda\\envs\\40dayspython_env\\lib\\site-packages (from matplotlib~=3.0->gradio) (2.9.0.post0)\n",
      "Requirement already satisfied: pytz>=2020.1 in d:\\asus\\ungdung\\anacoda\\anacoda\\envs\\40dayspython_env\\lib\\site-packages (from pandas<3.0,>=1.0->gradio) (2024.1)\n",
      "Requirement already satisfied: tzdata>=2022.7 in d:\\asus\\ungdung\\anacoda\\anacoda\\envs\\40dayspython_env\\lib\\site-packages (from pandas<3.0,>=1.0->gradio) (2024.1)\n",
      "Requirement already satisfied: annotated-types>=0.4.0 in d:\\asus\\ungdung\\anacoda\\anacoda\\envs\\40dayspython_env\\lib\\site-packages (from pydantic>=2.0->gradio) (0.6.0)\n",
      "Requirement already satisfied: pydantic-core==2.18.1 in d:\\asus\\ungdung\\anacoda\\anacoda\\envs\\40dayspython_env\\lib\\site-packages (from pydantic>=2.0->gradio) (2.18.1)\n",
      "Requirement already satisfied: click>=8.0.0 in d:\\asus\\ungdung\\anacoda\\anacoda\\envs\\40dayspython_env\\lib\\site-packages (from typer<1.0,>=0.12->gradio) (8.1.7)\n",
      "Requirement already satisfied: shellingham>=1.3.0 in d:\\asus\\ungdung\\anacoda\\anacoda\\envs\\40dayspython_env\\lib\\site-packages (from typer<1.0,>=0.12->gradio) (1.5.4)\n",
      "Requirement already satisfied: rich>=10.11.0 in d:\\asus\\ungdung\\anacoda\\anacoda\\envs\\40dayspython_env\\lib\\site-packages (from typer<1.0,>=0.12->gradio) (13.7.1)\n",
      "Requirement already satisfied: colorama in d:\\asus\\ungdung\\anacoda\\anacoda\\envs\\40dayspython_env\\lib\\site-packages (from click>=8.0.0->typer<1.0,>=0.12->gradio) (0.4.6)\n",
      "Requirement already satisfied: six>=1.5 in d:\\asus\\ungdung\\anacoda\\anacoda\\envs\\40dayspython_env\\lib\\site-packages (from python-dateutil>=2.7->matplotlib~=3.0->gradio) (1.16.0)\n",
      "Requirement already satisfied: markdown-it-py>=2.2.0 in d:\\asus\\ungdung\\anacoda\\anacoda\\envs\\40dayspython_env\\lib\\site-packages (from rich>=10.11.0->typer<1.0,>=0.12->gradio) (3.0.0)\n",
      "Requirement already satisfied: pygments<3.0.0,>=2.13.0 in d:\\asus\\ungdung\\anacoda\\anacoda\\envs\\40dayspython_env\\lib\\site-packages (from rich>=10.11.0->typer<1.0,>=0.12->gradio) (2.17.2)\n",
      "Requirement already satisfied: charset-normalizer<4,>=2 in d:\\asus\\ungdung\\anacoda\\anacoda\\envs\\40dayspython_env\\lib\\site-packages (from requests->huggingface-hub>=0.19.3->gradio) (3.3.2)\n",
      "Requirement already satisfied: mdurl~=0.1 in d:\\asus\\ungdung\\anacoda\\anacoda\\envs\\40dayspython_env\\lib\\site-packages (from markdown-it-py>=2.2.0->rich>=10.11.0->typer<1.0,>=0.12->gradio) (0.1.2)\n"
     ]
    }
   ],
   "source": [
    "! pip install gradio"
   ]
  },
  {
   "cell_type": "code",
   "execution_count": 3,
   "metadata": {},
   "outputs": [
    {
     "name": "stdout",
     "output_type": "stream",
     "text": [
      "Running on local URL:  http://127.0.0.1:7860\n",
      "\n",
      "To create a public link, set `share=True` in `launch()`.\n"
     ]
    },
    {
     "data": {
      "text/html": [
       "<div><iframe src=\"http://127.0.0.1:7860/\" width=\"100%\" height=\"500\" allow=\"autoplay; camera; microphone; clipboard-read; clipboard-write;\" frameborder=\"0\" allowfullscreen></iframe></div>"
      ],
      "text/plain": [
       "<IPython.core.display.HTML object>"
      ]
     },
     "metadata": {},
     "output_type": "display_data"
    },
    {
     "data": {
      "text/plain": []
     },
     "execution_count": 3,
     "metadata": {},
     "output_type": "execute_result"
    }
   ],
   "source": [
    "import gradio as gr\n",
    "\n",
    "def greet(name, intensity):\n",
    "    return \"Hello, \" + name + \"!\" * int(intensity)\n",
    "\n",
    "\n",
    "demo = gr.Interface(\n",
    "    fn=greet,\n",
    "    inputs=[\"text\", \"slider\"],\n",
    "    outputs=[\"text\"],\n",
    ")\n",
    "\n",
    "demo.launch()"
   ]
  }
 ],
 "metadata": {
  "kernelspec": {
   "display_name": "40daysPython_env",
   "language": "python",
   "name": "python3"
  },
  "language_info": {
   "codemirror_mode": {
    "name": "ipython",
    "version": 3
   },
   "file_extension": ".py",
   "mimetype": "text/x-python",
   "name": "python",
   "nbconvert_exporter": "python",
   "pygments_lexer": "ipython3",
   "version": "3.10.13"
  }
 },
 "nbformat": 4,
 "nbformat_minor": 2
}
